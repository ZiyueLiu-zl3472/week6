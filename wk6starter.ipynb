{
  "nbformat": 4,
  "nbformat_minor": 0,
  "metadata": {
    "colab": {
      "provenance": [],
      "include_colab_link": true
    },
    "kernelspec": {
      "name": "python3",
      "display_name": "Python 3"
    },
    "language_info": {
      "name": "python"
    }
  },
  "cells": [
    {
      "cell_type": "markdown",
      "metadata": {
        "id": "view-in-github",
        "colab_type": "text"
      },
      "source": [
        "<a href=\"https://colab.research.google.com/github/ZiyueLiu-zl3472/week6/blob/main/wk6starter.ipynb\" target=\"_parent\"><img src=\"https://colab.research.google.com/assets/colab-badge.svg\" alt=\"Open In Colab\"/></a>"
      ]
    },
    {
      "cell_type": "code",
      "execution_count": null,
      "metadata": {
        "id": "Jx7tQYA0d1Ly",
        "outputId": "57fb5a7b-97b7-48ab-f0d4-f3fa185e151d",
        "colab": {
          "base_uri": "https://localhost:8080/"
        }
      },
      "outputs": [
        {
          "output_type": "stream",
          "name": "stdout",
          "text": [
            "GS\n",
            "YF.download() has changed argument auto_adjust default to True\n"
          ]
        },
        {
          "output_type": "stream",
          "name": "stderr",
          "text": [
            "[*********************100%***********************]  1 of 1 completed\n",
            "[*********************100%***********************]  1 of 1 completed"
          ]
        },
        {
          "output_type": "stream",
          "name": "stdout",
          "text": [
            "<class 'pandas.core.frame.DataFrame'>\n",
            "[[-0.01776212]\n",
            " [-0.01717958]\n",
            " [ 0.09107687]\n",
            " ...\n",
            " [ 0.00465116]\n",
            " [-0.01581498]\n",
            " [ 0.01764799]]\n"
          ]
        },
        {
          "output_type": "stream",
          "name": "stderr",
          "text": [
            "\n"
          ]
        }
      ],
      "source": [
        "import yfinance as yf\n",
        "import pandas as pd\n",
        "\n",
        "\n",
        "# Part 1: create function to call yahoo finance to get prices and return the returns\n",
        "# for a given time period (default is start=\"2020-01-01\", end=\"2025-02-01\") - 2 points\n",
        "def YahooData2returns(symbol,start=\"2020-01-01\", end=\"2025-02-01\"):\n",
        "    return\n",
        "    # YahooData = data from Yahoo Finance\n",
        "    # Steps:\n",
        "    # Extract 'Adj Close' column\n",
        "    # Extract values from 'Adj Close' column to transform to a simple array\n",
        "    # Calculate and return the lagged returns\n",
        "\n",
        "\n",
        "def get_stock_data(symbol,start=\"2020-01-01\", end=\"2025-02-01\"):\n",
        "    print(symbol)\n",
        "    data = yf.download(symbol, start, end)\n",
        "    data = yf.download(symbol)\n",
        "    prices = data['Close']\n",
        "    return prices\n",
        "\n",
        "# Example usage\n",
        "prices = get_stock_data('GS')\n",
        "print(type(prices))\n",
        "pricevec = prices.values\n",
        "\n",
        "# Compute the returns\n",
        "n = len(pricevec)\n",
        "ratiovec = pricevec[1:n] / pricevec[:n-1]\n",
        "\n",
        "def get_returns(pricevec):\n",
        "    n = len(pricevec)\n",
        "    ratiovec = pricevec[1:n] / pricevec[:n-1]\n",
        "    returns = ratiovec - 1  # assuming the return calculation is (price_t / price_t-1) - 1\n",
        "    return returns\n",
        "\n",
        "# Example of using get_returns\n",
        "returns = get_returns(pricevec)\n",
        "print(returns)\n"
      ]
    },
    {
      "cell_type": "code",
      "source": [],
      "metadata": {
        "id": "6QcdQkA5tRHR"
      },
      "execution_count": null,
      "outputs": []
    },
    {
      "cell_type": "code",
      "execution_count": null,
      "metadata": {
        "id": "1R3_8XRRISt0",
        "outputId": "91173205-1f53-42ae-b69f-8ee517f1acd8",
        "colab": {
          "base_uri": "https://localhost:8080/",
          "height": 465
        }
      },
      "outputs": [
        {
          "output_type": "stream",
          "name": "stdout",
          "text": [
            "1.9837393285326517\n"
          ]
        },
        {
          "output_type": "display_data",
          "data": {
            "text/plain": [
              "<Figure size 640x480 with 1 Axes>"
            ],
            "image/png": "[encoded data removed]"
          },
          "metadata": {}
        },
        {
          "output_type": "stream",
          "name": "stdout",
          "text": [
            "True\n"
          ]
        }
      ],
      "source": [
        "import numpy as np\n",
        "import matplotlib.pyplot as plt\n",
        "from scipy.stats import norm\n",
        "\n",
        "# Part 2 - given a set of returns calculate the VaR and allow for\n",
        "# the notional amount to be an input variable \"principal with\" a default value of 1\n",
        "# 2 points\n",
        "\n",
        "def VaR(r, confidence, principal = 1):\n",
        "    # This function returns the left tail value and displays a histogram\n",
        "    # r = a vector of stock returns\n",
        "    # principal = investment initial value\n",
        "    # <your work>\n",
        "    # out = principal * positively stated value of r at the 1-alpha percentile\n",
        "    return out\n",
        "\n",
        "# Partial demonstration\n",
        "def percent_var(r, confidence):\n",
        "    # This function returns the left tail value and displays a histogram\n",
        "    # r = a vector of stock percent returns\n",
        "    # out = positively stated value of r at the 1-alpha percentile\n",
        "\n",
        "    plt.hist(r, bins=50, alpha=0.75)\n",
        "    plt.show()\n",
        "\n",
        "    out = np.percentile(r, (1 - confidence) * 100)  # Calculate the percentile\n",
        "    return abs(out)  # Return the absolute value of the calculated percentile\n",
        "\n",
        "# Example tools: percentile\n",
        "returns = np.random.normal(0, 1, 10000)\n",
        "print(np.percentile(returns, 97.72))\n",
        "\n",
        "# Unit test\n",
        "r = np.random.normal(0.05, 0.03, 1000000)\n",
        "probability2SD = norm.cdf(2)  # Probability under normal curve within 2 standard deviations\n",
        "\n",
        "my_confidence = probability2SD\n",
        "my_percent_var = percent_var(r, my_confidence )\n",
        "print(np.round(my_percent_var, 2) == 0.01)"
      ]
    },
    {
      "cell_type": "code",
      "source": [],
      "metadata": {
        "id": "nBG5PjxJteR3"
      },
      "execution_count": null,
      "outputs": []
    },
    {
      "cell_type": "code",
      "execution_count": null,
      "metadata": {
        "outputId": "174ea678-fe72-4626-f591-a7a2131d524d",
        "colab": {
          "base_uri": "https://localhost:8080/"
        },
        "id": "s9go6Gfbtivs"
      },
      "outputs": [
        {
          "output_type": "stream",
          "name": "stdout",
          "text": [
            "ES with confidence: True\n",
            "ES with VaR: True\n"
          ]
        }
      ],
      "source": [
        "import numpy as np\n",
        "\n",
        "# Part 3 - given a set of returns calculate the ES and allow for\n",
        "# the notional amount to be an input variable \"principal with\" a default value of 1\n",
        "# 2 points\n",
        "\n",
        "def ES(losses, confidence=None, VaR=None, use_PnL=False):\n",
        "    \"\"\"\n",
        "    Calculate the Expected Shortfall (ES) of losses.\n",
        "\n",
        "    losses: array of positively stated loss values\n",
        "    confidence: risk level (e.g., 0.99 for 99%)\n",
        "    VaR: dollar value specifying the VaR threshold\n",
        "\n",
        "    return Expected Shortfall as the average of losses exceeding VaR\n",
        "    \"\"\"\n",
        "    if VaR is None:\n",
        "        # If VaR is not provided, determine VaR based on the confidence percentile\n",
        "        VaR = np.percentile(losses, 100 * confidence)\n",
        "\n",
        "    # Calculate ES as the average of losses exceeding the VaR threshold\n",
        "    es_value = np.mean(losses[losses > VaR])\n",
        "    return es_value\n",
        "\n",
        "# Unit test\n",
        "u = np.random.uniform(0, 100, 100000)\n",
        "\n",
        "# Test the ES function with an confidence of 0.8\n",
        "es_confidence = ES(losses=u, confidence=0.8)\n",
        "print('ES with confidence:', np.round(es_confidence, 0) == 90)\n",
        "\n",
        "# Test the ES function with a VaR of 80\n",
        "es_var = ES(losses=u, VaR=80)\n",
        "print('ES with VaR:', np.round(es_var, 0) == 90)\n",
        "\n",
        "\n"
      ]
    },
    {
      "cell_type": "code",
      "source": [
        "# Problem 4 - 2 points\n",
        "# Given a stock symbol get the returns and calculate the .99 %-ile VaR on a $1MM investment\n",
        "def VaRStock(symbol, confidence=.95, principal = 1,start=\"2020-01-01\", end=\"2025-02-01\"):\n",
        "\n",
        "  # Get prices using functions defined above above\n",
        "  returns = YahooData2returns(symbol,start,end)\n",
        "\n",
        "\n",
        "  # Feed returns into VaR function\n",
        "  var=VaR(returns, confidence, principal = 1)\n",
        "\n",
        "  return(var)"
      ],
      "metadata": {
        "id": "oSaZgVYvtrdi"
      },
      "execution_count": null,
      "outputs": []
    },
    {
      "cell_type": "code",
      "source": [
        "# Problem 5 - 2 points\n",
        "# Given a stock symbol get the returns and calculate the .975 %-ile ES (expected shortfall) on a $1MM investment\n",
        "\n",
        "# Get returns for stock using function above\n",
        "\n",
        "# Calculate .975 %-ile and seleect returns\n",
        "\n"
      ],
      "metadata": {
        "id": "d_liKM_cwvh5"
      },
      "execution_count": null,
      "outputs": []
    }
  ]
}