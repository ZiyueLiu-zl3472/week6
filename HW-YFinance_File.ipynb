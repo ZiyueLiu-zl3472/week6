{
  "nbformat": 4,
  "nbformat_minor": 0,
  "metadata": {
    "colab": {
      "provenance": [],
      "authorship_tag": "ABX9TyOQXGI3WwuCNGbAwqTUumvM",
      "include_colab_link": true
    },
    "kernelspec": {
      "name": "python3",
      "display_name": "Python 3"
    },
    "language_info": {
      "name": "python"
    }
  },
  "cells": [
    {
      "cell_type": "markdown",
      "metadata": {
        "id": "view-in-github",
        "colab_type": "text"
      },
      "source": [
        "<a href=\"https://colab.research.google.com/github/tleitchColumbia/week6/blob/main/YFinance_File.ipynb\" target=\"_parent\"><img src=\"https://colab.research.google.com/assets/colab-badge.svg\" alt=\"Open In Colab\"/></a>"
      ]
    },
    {
      "cell_type": "code",
      "execution_count": null,
      "metadata": {
        "id": "Jx7tQYA0d1Ly"
      },
      "outputs": [],
      "source": [
        "import numpy as np\n",
        "\n",
        "def YahooData2returns(YahooData):\n",
        "    # Yahoo Data = raw downloaded data from Yahoo Finance using yfinance\n",
        "    # returns = % returns of 'Adj Close' as a data vector (not a data frame)\n",
        "\n",
        "    '''\n",
        "    # Practice data for unit test\n",
        "    d = {   'Open': [100, 102, 101, 103],\n",
        "        'High': [105, 104, 103, 105],\n",
        "        'Low': [98, 100, 99, 101],\n",
        "        'Close': [101, 103, 102, 104],\n",
        "        'Adj Close': [101, 103, 102, 104],\n",
        "        'Volume': [1000, 1200, 900, 1100]}\n",
        "\n",
        "    index = pd.to_datetime(['2023-10-26', '2023-10-27', '2023-10-28', '2023-10-29'])\n",
        "    tempdata = pd.DataFrame(d, index=index)\n",
        "    '''\n",
        "\n",
        "    returns = np.array([ 0.01980198, -0.00970874,  0.01960784])\n",
        "    return returns\n"
      ]
    }
  ]
}
