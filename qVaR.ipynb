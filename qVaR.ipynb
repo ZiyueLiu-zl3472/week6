{
  "nbformat": 4,
  "nbformat_minor": 0,
  "metadata": {
    "colab": {
      "provenance": [],
      "authorship_tag": "ABX9TyM2zrizufQfA7+ZvdSu/pzR",
      "include_colab_link": true
    },
    "kernelspec": {
      "name": "python3",
      "display_name": "Python 3"
    },
    "language_info": {
      "name": "python"
    }
  },
  "cells": [
    {
      "cell_type": "markdown",
      "metadata": {
        "id": "view-in-github",
        "colab_type": "text"
      },
      "source": [
        "<a href=\"https://colab.research.google.com/github/ZiyueLiu-zl3472/week6/blob/main/qVaR.ipynb\" target=\"_parent\"><img src=\"https://colab.research.google.com/assets/colab-badge.svg\" alt=\"Open In Colab\"/></a>"
      ]
    },
    {
      "cell_type": "code",
      "source": [
        "import numpy as np\n",
        "import matplotlib.pyplot as plt\n",
        "from scipy.stats import norm\n",
        "\n",
        "def VaR(r, confidence, principal = 1):\n",
        "    # This function returns the left tail value and displays a histogram\n",
        "    # r = a vector of stock returns\n",
        "    # principal = investment initial value\n",
        "    # <your work>\n",
        "    # out = principal * positively stated value of r at the 1-alpha percentile\n",
        "    return out\n",
        "\n",
        "# Partial demonstration\n",
        "def percent_var(r, confidence):\n",
        "    # This function returns the left tail value and displays a histogram\n",
        "    # r = a vector of stock percent returns\n",
        "    # out = positively stated value of r at the 1-alpha percentile\n",
        "\n",
        "    plt.hist(r, bins=50, alpha=0.75)\n",
        "    plt.show()\n",
        "\n",
        "    out = np.percentile(r, (1 - confidence) * 100)  # Calculate the percentile\n",
        "    return abs(out)  # Return the absolute value of the calculated percentile\n",
        "\n",
        "# Example tools: percentile\n",
        "returns = np.random.normal(0, 1, 10000)\n",
        "print(np.percentile(returns, 97.72))\n",
        "\n",
        "# Unit test\n",
        "r = np.random.normal(0.05, 0.03, 1000000)\n",
        "probability2SD = norm.cdf(2)  # Probability under normal curve within 2 standard deviations\n",
        "\n",
        "my_confidence = probability2SD\n",
        "my_percent_var = percent_var(r, my_confidence )\n",
        "print(np.round(my_percent_var, 2) == 0.01)"
      ],
      "metadata": {
        "colab": {
          "base_uri": "https://localhost:8080/",
          "height": 464
        },
        "id": "C9nhW-nDJSh6",
        "outputId": "b074ecd6-b88c-478f-8810-00dc1ddcd9cd"
      },
      "execution_count": 2,
      "outputs": [
        {
          "output_type": "stream",
          "name": "stdout",
          "text": [
            "1.9754841327610717\n"
          ]
        },
        {
          "output_type": "display_data",
          "data": {
            "text/plain": [
              "<Figure size 640x480 with 1 Axes>"
            ],
            "image/png": "[encoded data removed]"
          },
          "metadata": {}
        },
        {
          "output_type": "stream",
          "name": "stdout",
          "text": [
            "True\n"
          ]
        }
      ]
    }
  ]
}