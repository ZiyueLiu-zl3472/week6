{
  "nbformat": 4,
  "nbformat_minor": 0,
  "metadata": {
    "colab": {
      "provenance": [],
      "authorship_tag": "ABX9TyNaIg0fLVaDXLgmSp7rd2Md",
      "include_colab_link": true
    },
    "kernelspec": {
      "name": "python3",
      "display_name": "Python 3"
    },
    "language_info": {
      "name": "python"
    }
  },
  "cells": [
    {
      "cell_type": "markdown",
      "metadata": {
        "id": "view-in-github",
        "colab_type": "text"
      },
      "source": [
        "<a href=\"https://colab.research.google.com/github/tleitchColumbia/week6/blob/main/VaR_File.ipynb\" target=\"_parent\"><img src=\"https://colab.research.google.com/assets/colab-badge.svg\" alt=\"Open In Colab\"/></a>"
      ]
    },
    {
      "cell_type": "code",
      "execution_count": null,
      "metadata": {
        "id": "Jx7tQYA0d1Ly"
      },
      "outputs": [],
      "source": [
        "import numpy as np\n",
        "\n",
        "def VaR(r, alpha):\n",
        "    # This function returns the left tail value\n",
        "    # alpha = risk level\n",
        "    # r = an array of stock returns\n",
        "    # out = positively stated value of r at the 1-alpha percentile\n",
        "\n",
        "    out = .01 # Calculate the percentile\n",
        "    return abs(out)  # Return the absolute value of the calculated percentile\n"
      ]
    }
  ]
}
